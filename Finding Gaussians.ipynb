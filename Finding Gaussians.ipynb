{
 "cells": [
  {
   "cell_type": "code",
   "execution_count": 1,
   "id": "0a5ddde6",
   "metadata": {},
   "outputs": [
    {
     "name": "stderr",
     "output_type": "stream",
     "text": [
      "2022-04-15 21:47:37.493378: W tensorflow/stream_executor/platform/default/dso_loader.cc:64] Could not load dynamic library 'libcudart.so.11.0'; dlerror: libcudart.so.11.0: cannot open shared object file: No such file or directory\n",
      "2022-04-15 21:47:37.493417: I tensorflow/stream_executor/cuda/cudart_stub.cc:29] Ignore above cudart dlerror if you do not have a GPU set up on your machine.\n"
     ]
    }
   ],
   "source": [
    "import numpy as np\n",
    "import tensorflow as tf\n",
    "import tensorflow_probability as tfp\n",
    "from numpy.linalg import norm"
   ]
  },
  {
   "cell_type": "code",
   "execution_count": 2,
   "id": "5aa15502",
   "metadata": {},
   "outputs": [],
   "source": [
    "#!pip install tensorflow\n",
    "#!pip install tensorflow_probability"
   ]
  },
  {
   "cell_type": "code",
   "execution_count": 3,
   "id": "4f905334",
   "metadata": {},
   "outputs": [
    {
     "name": "stderr",
     "output_type": "stream",
     "text": [
      "2022-04-15 21:47:39.621066: W tensorflow/stream_executor/platform/default/dso_loader.cc:64] Could not load dynamic library 'libcuda.so.1'; dlerror: libcuda.so.1: cannot open shared object file: No such file or directory\n",
      "2022-04-15 21:47:39.621100: W tensorflow/stream_executor/cuda/cuda_driver.cc:269] failed call to cuInit: UNKNOWN ERROR (303)\n",
      "2022-04-15 21:47:39.621127: I tensorflow/stream_executor/cuda/cuda_diagnostics.cc:156] kernel driver does not appear to be running on this host (dell-Inspiron-5448): /proc/driver/nvidia/version does not exist\n",
      "2022-04-15 21:47:39.621433: I tensorflow/core/platform/cpu_feature_guard.cc:151] This TensorFlow binary is optimized with oneAPI Deep Neural Network Library (oneDNN) to use the following CPU instructions in performance-critical operations:  AVX2 FMA\n",
      "To enable them in other operations, rebuild TensorFlow with the appropriate compiler flags.\n"
     ]
    }
   ],
   "source": [
    "k = 20\n",
    "n = 100\n",
    "N1 = tf.constant(tf.random.normal([k,n], 0, 1, tf.float32, seed=1))\n",
    "N2 = tf.constant(tf.random.normal([k,n], 0, 1, tf.float32, seed=1))"
   ]
  },
  {
   "cell_type": "code",
   "execution_count": 4,
   "id": "76ce887a",
   "metadata": {},
   "outputs": [],
   "source": [
    "def make_constraint():\n",
    "    def constraint(L):\n",
    "        return tf.linalg.band_part(L, -1, 0)\n",
    "    return constraint"
   ]
  },
  {
   "cell_type": "code",
   "execution_count": 5,
   "id": "ff19aab3",
   "metadata": {},
   "outputs": [],
   "source": [
    "constraint = make_constraint()"
   ]
  },
  {
   "cell_type": "code",
   "execution_count": 12,
   "id": "86ae60cd",
   "metadata": {},
   "outputs": [],
   "source": [
    "total = int((k**2+k)/2)\n",
    "l = tf.random.normal([total],0,1,tf.float32, seed=1)\n",
    "L1 = tf.Variable(tfp.math.fill_triangular(l),constraint=constraint)\n",
    "l = tf.random.normal([total],0,1,tf.float32, seed=1)\n",
    "L2 = tf.Variable(tfp.math.fill_triangular(l),constraint=constraint)\n",
    "# diag = np.ones(k)\n",
    "# for i in range(k):\n",
    "#     diag[i] + i\n",
    "# L1 = tf.linalg.set_diag(L1,diag)\n",
    "# L2 = tf.linalg.set_diag(L2,diag)\n",
    "b = 0.5\n",
    "def loss_fn():\n",
    "    X1 = L1@N1\n",
    "    X2 = L2@N2\n",
    "    X1 = tf.math.l2_normalize(X1, 1)\n",
    "    X2 = tf.math.l2_normalize(X2, 1)\n",
    "    C = tf.matmul(X1,X2,transpose_b=True)\n",
    "    D = tf.math.square(tf.math.subtract(C,b))\n",
    "    # - tf.linalg.trace(tf.math.log(L1)) - tf.linalg.trace(tf.math.log(L2))\n",
    "    # - tf.reduce_sum(tf.math.log(tf.linalg.diag_part(L1))) - tf.reduce_sum(tf.math.log(tf.linalg.diag_part(L2)))\n",
    "    return tf.reduce_sum(D) "
   ]
  },
  {
   "cell_type": "code",
   "execution_count": 13,
   "id": "8e093952",
   "metadata": {},
   "outputs": [],
   "source": [
    "losses = tfp.math.minimize(loss_fn,\n",
    "                           num_steps=10000,\n",
    "                           optimizer=tf.optimizers.Adam(learning_rate=0.1))"
   ]
  },
  {
   "cell_type": "code",
   "execution_count": 14,
   "id": "8b498c75",
   "metadata": {},
   "outputs": [
    {
     "data": {
      "text/plain": [
       "<tf.Tensor: shape=(10000,), dtype=float32, numpy=\n",
       "array([104.23366 ,  99.27533 ,  94.33078 , ...,   7.10001 ,   7.10001 ,\n",
       "         7.100011], dtype=float32)>"
      ]
     },
     "execution_count": 14,
     "metadata": {},
     "output_type": "execute_result"
    }
   ],
   "source": [
    "losses"
   ]
  },
  {
   "cell_type": "code",
   "execution_count": 15,
   "id": "6886c35f",
   "metadata": {},
   "outputs": [],
   "source": [
    "sigma1 = tf.matmul(L1,L1,transpose_b=True).numpy()\n",
    "sigma2 = tf.matmul(L2,L2,transpose_b=True).numpy()"
   ]
  },
  {
   "cell_type": "code",
   "execution_count": 16,
   "id": "439bfe46",
   "metadata": {},
   "outputs": [
    {
     "name": "stderr",
     "output_type": "stream",
     "text": [
      "/tmp/ipykernel_11919/2125472353.py:2: RuntimeWarning: covariance is not positive-semidefinite.\n",
      "  x1 = np.random.multivariate_normal(np.zeros(k),sigma1,N)\n",
      "/tmp/ipykernel_11919/2125472353.py:3: RuntimeWarning: covariance is not positive-semidefinite.\n",
      "  x2 = np.random.multivariate_normal(np.zeros(k),sigma2,N)\n"
     ]
    },
    {
     "data": {
      "text/plain": [
       "0.5689783689886951"
      ]
     },
     "execution_count": 16,
     "metadata": {},
     "output_type": "execute_result"
    }
   ],
   "source": [
    "N = 10000\n",
    "x1 = np.random.multivariate_normal(np.zeros(k),sigma1,N)\n",
    "x2 = np.random.multivariate_normal(np.zeros(k),sigma2,N)\n",
    "a = norm(x1,axis=1)\n",
    "b = norm(x2,axis=1)\n",
    "a = a.reshape(N,1)\n",
    "b = b.reshape(N,1)\n",
    "M = a@b.T\n",
    "cos_sim = np.divide(x1@x2.T,M)\n",
    "np.mean(abs(cos_sim.flatten()))"
   ]
  }
 ],
 "metadata": {
  "kernelspec": {
   "display_name": "Python 3 (ipykernel)",
   "language": "python",
   "name": "python3"
  },
  "language_info": {
   "codemirror_mode": {
    "name": "ipython",
    "version": 3
   },
   "file_extension": ".py",
   "mimetype": "text/x-python",
   "name": "python",
   "nbconvert_exporter": "python",
   "pygments_lexer": "ipython3",
   "version": "3.9.7"
  }
 },
 "nbformat": 4,
 "nbformat_minor": 5
}
