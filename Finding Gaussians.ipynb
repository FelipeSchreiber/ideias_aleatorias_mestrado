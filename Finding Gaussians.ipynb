{
 "cells": [
  {
   "cell_type": "code",
   "execution_count": 1,
   "id": "c76aac4a",
   "metadata": {},
   "outputs": [
    {
     "name": "stderr",
     "output_type": "stream",
     "text": [
      "2022-04-16 23:23:02.186951: W tensorflow/stream_executor/platform/default/dso_loader.cc:64] Could not load dynamic library 'libcudart.so.11.0'; dlerror: libcudart.so.11.0: cannot open shared object file: No such file or directory\n",
      "2022-04-16 23:23:02.186982: I tensorflow/stream_executor/cuda/cudart_stub.cc:29] Ignore above cudart dlerror if you do not have a GPU set up on your machine.\n"
     ]
    }
   ],
   "source": [
    "import numpy as np\n",
    "import tensorflow as tf\n",
    "import tensorflow_probability as tfp\n",
    "from numpy.linalg import norm\n",
    "import matplotlib.pyplot as plt"
   ]
  },
  {
   "cell_type": "code",
   "execution_count": 2,
   "id": "0a05ab08",
   "metadata": {},
   "outputs": [],
   "source": [
    "#!pip install tensorflow\n",
    "#!pip install tensorflow_probability"
   ]
  },
  {
   "cell_type": "code",
   "execution_count": 3,
   "id": "7b637f45",
   "metadata": {},
   "outputs": [
    {
     "name": "stderr",
     "output_type": "stream",
     "text": [
      "2022-04-16 23:23:04.695114: W tensorflow/stream_executor/platform/default/dso_loader.cc:64] Could not load dynamic library 'libcuda.so.1'; dlerror: libcuda.so.1: cannot open shared object file: No such file or directory\n",
      "2022-04-16 23:23:04.695141: W tensorflow/stream_executor/cuda/cuda_driver.cc:269] failed call to cuInit: UNKNOWN ERROR (303)\n",
      "2022-04-16 23:23:04.695160: I tensorflow/stream_executor/cuda/cuda_diagnostics.cc:156] kernel driver does not appear to be running on this host (dell-Inspiron-5448): /proc/driver/nvidia/version does not exist\n",
      "2022-04-16 23:23:04.695405: I tensorflow/core/platform/cpu_feature_guard.cc:151] This TensorFlow binary is optimized with oneAPI Deep Neural Network Library (oneDNN) to use the following CPU instructions in performance-critical operations:  AVX2 FMA\n",
      "To enable them in other operations, rebuild TensorFlow with the appropriate compiler flags.\n"
     ]
    }
   ],
   "source": [
    "k = 2\n",
    "n = 1000\n",
    "N1 = tf.constant(tf.random.normal([k,n], 0, 1, tf.float32, seed=1))\n",
    "N2 = tf.constant(tf.random.normal([k,n], 0, 1, tf.float32, seed=1))"
   ]
  },
  {
   "cell_type": "code",
   "execution_count": 4,
   "id": "a341bc7c",
   "metadata": {},
   "outputs": [],
   "source": [
    "def make_constraint():\n",
    "    def constraint(L):\n",
    "        return tf.linalg.band_part(L, -1, 0)\n",
    "    return constraint"
   ]
  },
  {
   "cell_type": "code",
   "execution_count": 5,
   "id": "96a78d4c",
   "metadata": {},
   "outputs": [],
   "source": [
    "constraint = make_constraint()"
   ]
  },
  {
   "cell_type": "code",
   "execution_count": 22,
   "id": "1c86f391",
   "metadata": {},
   "outputs": [],
   "source": [
    "total = int((k**2+k)/2)\n",
    "l = np.ones(total,dtype=np.float32)\n",
    "L1 = tf.Variable(tfp.math.fill_triangular(l),constraint=constraint)\n",
    "L2 = tf.Variable(tfp.math.fill_triangular(l),constraint=constraint)\n",
    "# A = tf.Variable(np.eye(k),dtype=tf.float32)\n",
    "# B = tf.Variable(np.eye(k),dtype=tf.float32)\n",
    "M1 = tf.Variable(np.zeros(k),dtype=tf.float32)\n",
    "M2 = tf.Variable(np.zeros(k),dtype=tf.float32)\n",
    "p = 0.2\n",
    "q = 0.5\n",
    "def loss_fn():\n",
    "    X1 = L1@N1 + M1[:,None]\n",
    "    X2 = L2@N2 + M2[:,None]\n",
    "    X1 = tf.math.l2_normalize(X1, 0) \n",
    "    X2 = tf.math.l2_normalize(X2, 0)\n",
    "    C = tf.matmul(X1,X2,transpose_a=True)\n",
    "    D = tf.math.square(tf.math.subtract(C,p))\n",
    "    E = tf.matmul(X1,X1,transpose_a=True)\n",
    "    F = tf.math.square(tf.math.subtract(E,q))\n",
    "    G = tf.matmul(X2,X2,transpose_a=True)\n",
    "    H = tf.math.square(tf.math.subtract(G,q))\n",
    "    sigma1 = tf.matmul(L1,L1,transpose_b=True)\n",
    "    sigma2 = tf.matmul(L2,L2,transpose_b=True)\n",
    "    #+ tf.reduce_sum(F) + tf.reduce_sum(H) \n",
    "    # - tf.linalg.logdet(sigma1) - tf.linalg.logdet(sigma2) + tf.norm(sigma1,ord=2) + tf.norm(sigma2,ord=2)\n",
    "    return tf.reduce_sum(D) + tf.reduce_sum(F) + tf.reduce_sum(H) - tf.linalg.logdet(sigma1) - tf.linalg.logdet(sigma2) "
   ]
  },
  {
   "cell_type": "code",
   "execution_count": 23,
   "id": "d98cdee9",
   "metadata": {},
   "outputs": [
    {
     "data": {
      "text/plain": [
       "(<tf.Tensor: shape=(), dtype=float32, numpy=0.0>,\n",
       " <tf.Tensor: shape=(), dtype=float32, numpy=0.0>)"
      ]
     },
     "execution_count": 23,
     "metadata": {},
     "output_type": "execute_result"
    }
   ],
   "source": [
    "sigma1 = tf.matmul(L1,L1,transpose_b=True)\n",
    "sigma2 = tf.matmul(L2,L2,transpose_b=True)\n",
    "tf.linalg.logdet(sigma1),tf.linalg.logdet(sigma2)"
   ]
  },
  {
   "cell_type": "code",
   "execution_count": 24,
   "id": "2eb98bab",
   "metadata": {},
   "outputs": [],
   "source": [
    "losses = tfp.math.minimize(\n",
    "                           loss_fn,\n",
    "                           num_steps=10000,\n",
    "                           optimizer=tf.optimizers.Adam(learning_rate=0.1)\n",
    "                          )"
   ]
  },
  {
   "cell_type": "code",
   "execution_count": 25,
   "id": "e54d88e5",
   "metadata": {},
   "outputs": [
    {
     "data": {
      "text/plain": [
       "<tf.Tensor: shape=(10000,), dtype=float32, numpy=\n",
       "array([2336592.  , 2234338.8 , 2127222.5 , ...,  498654.03,  498654.03,\n",
       "        498654.  ], dtype=float32)>"
      ]
     },
     "execution_count": 25,
     "metadata": {},
     "output_type": "execute_result"
    }
   ],
   "source": [
    "losses"
   ]
  },
  {
   "cell_type": "code",
   "execution_count": 26,
   "id": "9055b764",
   "metadata": {},
   "outputs": [],
   "source": [
    "sigma1 = tf.matmul(L1,L1,transpose_b=True).numpy()\n",
    "sigma2 = tf.matmul(L2,L2,transpose_b=True).numpy()"
   ]
  },
  {
   "cell_type": "code",
   "execution_count": 27,
   "id": "042afc30",
   "metadata": {},
   "outputs": [
    {
     "data": {
      "text/plain": [
       "0.21441297949299268"
      ]
     },
     "execution_count": 27,
     "metadata": {},
     "output_type": "execute_result"
    }
   ],
   "source": [
    "N = 1000\n",
    "x1 = np.random.multivariate_normal(M1.numpy(),sigma1,N)\n",
    "x2 = np.random.multivariate_normal(M2.numpy(),sigma2,N)\n",
    "a = norm(x1,axis=1)\n",
    "b = norm(x2,axis=1)\n",
    "a = a.reshape(N,1)\n",
    "b = b.reshape(N,1)\n",
    "M = a@b.T\n",
    "cos_sim = np.divide(x1@x2.T,M)\n",
    "np.mean(cos_sim.flatten())"
   ]
  },
  {
   "cell_type": "code",
   "execution_count": 28,
   "id": "53a4a172",
   "metadata": {},
   "outputs": [
    {
     "data": {
      "image/png": "[encoded data removed]",
      "text/plain": [
       "<Figure size 432x288 with 1 Axes>"
      ]
     },
     "metadata": {
      "needs_background": "light"
     },
     "output_type": "display_data"
    }
   ],
   "source": [
    "plt.hist(cos_sim.flatten(),100)\n",
    "plt.show()"
   ]
  },
  {
   "cell_type": "code",
   "execution_count": 29,
   "id": "4aa6b980",
   "metadata": {},
   "outputs": [
    {
     "data": {
      "text/plain": [
       "0.9754232926771187"
      ]
     },
     "execution_count": 29,
     "metadata": {},
     "output_type": "execute_result"
    }
   ],
   "source": [
    "M = a@a.T\n",
    "cos_sim = np.divide(x1@x1.T,M)\n",
    "np.mean(cos_sim.flatten())"
   ]
  },
  {
   "cell_type": "code",
   "execution_count": 30,
   "id": "17b9cdab",
   "metadata": {},
   "outputs": [
    {
     "data": {
      "text/plain": [
       "0.9831981624413174"
      ]
     },
     "execution_count": 30,
     "metadata": {},
     "output_type": "execute_result"
    }
   ],
   "source": [
    "M = b@b.T\n",
    "cos_sim = np.divide(x2@x2.T,M)\n",
    "np.mean(cos_sim.flatten())"
   ]
  },
  {
   "cell_type": "code",
   "execution_count": 31,
   "id": "e5fa0daa",
   "metadata": {},
   "outputs": [
    {
     "data": {
      "text/plain": [
       "<matplotlib.collections.PathCollection at 0x7f4accbeae80>"
      ]
     },
     "execution_count": 31,
     "metadata": {},
     "output_type": "execute_result"
    },
    {
     "data": {
      "image/png": "[encoded data removed]",
      "text/plain": [
       "<Figure size 432x288 with 1 Axes>"
      ]
     },
     "metadata": {
      "needs_background": "light"
     },
     "output_type": "display_data"
    }
   ],
   "source": [
    "plt.scatter(x1[:,0],x1[:,1])"
   ]
  },
  {
   "cell_type": "code",
   "execution_count": 32,
   "id": "392906ba",
   "metadata": {},
   "outputs": [
    {
     "data": {
      "text/plain": [
       "<matplotlib.collections.PathCollection at 0x7f4acd127ac0>"
      ]
     },
     "execution_count": 32,
     "metadata": {},
     "output_type": "execute_result"
    },
    {
     "data": {
      "image/png": "[encoded data removed]",
      "text/plain": [
       "<Figure size 432x288 with 1 Axes>"
      ]
     },
     "metadata": {
      "needs_background": "light"
     },
     "output_type": "display_data"
    }
   ],
   "source": [
    "plt.scatter(x2[:,0],x2[:,1])"
   ]
  },
  {
   "cell_type": "code",
   "execution_count": 33,
   "id": "9f941160",
   "metadata": {},
   "outputs": [
    {
     "data": {
      "text/plain": [
       "(array([[0.9910935 , 0.5559356 ],\n",
       "        [0.5559356 , 0.31479195]], dtype=float32),\n",
       " array([-4.3978763 ,  0.17454135], dtype=float32))"
      ]
     },
     "execution_count": 33,
     "metadata": {},
     "output_type": "execute_result"
    }
   ],
   "source": [
    "sigma1,M1.numpy()"
   ]
  },
  {
   "cell_type": "code",
   "execution_count": 34,
   "id": "c506a492",
   "metadata": {},
   "outputs": [
    {
     "data": {
      "text/plain": [
       "<tf.Variable 'Variable:0' shape=(2, 2) dtype=float32, numpy=\n",
       "array([[0.9955368 , 0.        ],\n",
       "       [0.558428  , 0.05431506]], dtype=float32)>"
      ]
     },
     "execution_count": 34,
     "metadata": {},
     "output_type": "execute_result"
    }
   ],
   "source": [
    "L1"
   ]
  },
  {
   "cell_type": "code",
   "execution_count": 35,
   "id": "c3adb71c",
   "metadata": {},
   "outputs": [
    {
     "data": {
      "text/plain": [
       "(array([[0.28189394, 0.55190223],\n",
       "        [0.55190223, 1.0818168 ]], dtype=float32),\n",
       " array([-0.6752087,  5.1234097], dtype=float32))"
      ]
     },
     "execution_count": 35,
     "metadata": {},
     "output_type": "execute_result"
    }
   ],
   "source": [
    "sigma2,M2.numpy()"
   ]
  }
 ],
 "metadata": {
  "kernelspec": {
   "display_name": "Python 3 (ipykernel)",
   "language": "python",
   "name": "python3"
  },
  "language_info": {
   "codemirror_mode": {
    "name": "ipython",
    "version": 3
   },
   "file_extension": ".py",
   "mimetype": "text/x-python",
   "name": "python",
   "nbconvert_exporter": "python",
   "pygments_lexer": "ipython3",
   "version": "3.9.7"
  }
 },
 "nbformat": 4,
 "nbformat_minor": 5
}
