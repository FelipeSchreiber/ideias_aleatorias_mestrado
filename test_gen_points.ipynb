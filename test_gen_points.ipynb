{
 "cells": [
  {
   "cell_type": "code",
   "execution_count": 1,
   "id": "939581b4",
   "metadata": {},
   "outputs": [],
   "source": [
    "from generate_points import*\n",
    "import numpy as np\n",
    "import matplotlib.pyplot as plt\n",
    "from numpy import dot\n",
    "from numpy.linalg import norm"
   ]
  },
  {
   "cell_type": "code",
   "execution_count": 3,
   "id": "289937e5",
   "metadata": {},
   "outputs": [],
   "source": [
    "#mu = np.array([np.sqrt(2)/2,np.sqrt(2)/2])\n",
    "mu = np.array([0,1])\n",
    "theta_0 = np.pi/6\n",
    "n = 2"
   ]
  },
  {
   "cell_type": "code",
   "execution_count": 4,
   "id": "f0888e5a",
   "metadata": {},
   "outputs": [],
   "source": [
    "points = []\n",
    "for i in range(10000):\n",
    "    p = generate_point(mu,theta_0,n)\n",
    "    p *= np.random.uniform(0,1)\n",
    "    points.append(p)\n",
    "points = np.array(points)"
   ]
  },
  {
   "cell_type": "code",
   "execution_count": 5,
   "id": "9aa58425",
   "metadata": {},
   "outputs": [
    {
     "data": {
      "text/plain": [
       "array([[-0.14624124,  0.46766814],\n",
       "       [-0.25732374,  0.52254559],\n",
       "       [ 0.03997202,  0.10047989],\n",
       "       ...,\n",
       "       [-0.30391404,  0.60403883],\n",
       "       [-0.02303304,  0.25165801],\n",
       "       [ 0.01346175,  0.02839493]])"
      ]
     },
     "execution_count": 5,
     "metadata": {},
     "output_type": "execute_result"
    }
   ],
   "source": [
    "points"
   ]
  },
  {
   "cell_type": "code",
   "execution_count": 6,
   "id": "9d143503",
   "metadata": {},
   "outputs": [
    {
     "data": {
      "image/png": "[encoded data removed]",
      "text/plain": [
       "<Figure size 432x288 with 1 Axes>"
      ]
     },
     "metadata": {
      "needs_background": "light"
     },
     "output_type": "display_data"
    }
   ],
   "source": [
    "plt.scatter(points[:,0],points[:,1])\n",
    "plt.plot(points[:,0],np.sqrt(3)*points[:,0])\n",
    "plt.plot(points[:,0],-np.sqrt(3)*points[:,0])\n",
    "plt.xlim(-1,1)\n",
    "plt.ylim(-1,1)\n",
    "plt.show()"
   ]
  },
  {
   "cell_type": "code",
   "execution_count": 7,
   "id": "bf709f46",
   "metadata": {},
   "outputs": [],
   "source": [
    "mu = np.array([1,0])\n",
    "#theta_2 = np.pi/6\n",
    "theta_2=theta_0\n",
    "points2 = []\n",
    "for i in range(10000):\n",
    "    p = generate_point(mu,theta_2,n)\n",
    "    p *= np.random.uniform(0,1)\n",
    "    points2.append(p)\n",
    "points2 = np.array(points2)"
   ]
  },
  {
   "cell_type": "code",
   "execution_count": 8,
   "id": "b8c6d1df",
   "metadata": {},
   "outputs": [
    {
     "data": {
      "text/plain": [
       "0.8660254037844386"
      ]
     },
     "execution_count": 8,
     "metadata": {},
     "output_type": "execute_result"
    }
   ],
   "source": [
    "np.sqrt(3)/2"
   ]
  },
  {
   "cell_type": "code",
   "execution_count": 2,
   "id": "4b482ef0",
   "metadata": {},
   "outputs": [],
   "source": [
    "def rotation_matrix(angle):\n",
    "    M = np.array([[np.cos(angle),np.sin(angle)],\n",
    "             [-np.sin(angle),np.cos(angle)]])\n",
    "    return M"
   ]
  },
  {
   "cell_type": "code",
   "execution_count": 10,
   "id": "ebea145d",
   "metadata": {},
   "outputs": [
    {
     "data": {
      "text/plain": [
       "array([1, 0])"
      ]
     },
     "execution_count": 10,
     "metadata": {},
     "output_type": "execute_result"
    }
   ],
   "source": [
    "mu"
   ]
  },
  {
   "cell_type": "code",
   "execution_count": 11,
   "id": "df1af62f",
   "metadata": {},
   "outputs": [
    {
     "data": {
      "image/png": "[encoded data removed]",
      "text/plain": [
       "<Figure size 432x288 with 1 Axes>"
      ]
     },
     "metadata": {
      "needs_background": "light"
     },
     "output_type": "display_data"
    }
   ],
   "source": [
    "plt.scatter(points[:,0],points[:,1])\n",
    "plt.scatter(points2[:,0],points2[:,1])\n",
    "plt.plot(np.linspace(0,1,1000),np.sqrt(3)*np.linspace(0,1,1000))\n",
    "plt.plot(np.linspace(0,-1,1000),-np.sqrt(3)*np.linspace(0,-1,1000))\n",
    "plt.plot(np.linspace(0,1,1000),np.sqrt(3)*np.linspace(0,1,1000)/3)\n",
    "plt.plot(np.linspace(0,1,1000),-np.sqrt(3)*np.linspace(0,1,1000)/3)\n",
    "plt.xlim(-1,1)\n",
    "plt.ylim(-1,1)\n",
    "plt.show()"
   ]
  },
  {
   "cell_type": "code",
   "execution_count": 12,
   "id": "1c3cf949",
   "metadata": {},
   "outputs": [
    {
     "data": {
      "text/plain": [
       "'\\npoints3 = []\\nfor i in range(1000):\\n    p = generate_point(mu,theta_3,n)\\n    p *= np.random.uniform(0,1)\\n    points3.append(p)\\npoints3 = np.array(points3)'"
      ]
     },
     "execution_count": 12,
     "metadata": {},
     "output_type": "execute_result"
    }
   ],
   "source": [
    "mu = np.array([1,0])\n",
    "#theta_3 = np.pi/24\n",
    "theta_3 = theta_0/4\n",
    "angle =np.pi/2 -theta_0 -theta_2 +2*theta_3\n",
    "M = rotation_matrix(angle)\n",
    "mu = mu@M\n",
    "\"\"\"\n",
    "points3 = []\n",
    "for i in range(1000):\n",
    "    p = generate_point(mu,theta_3,n)\n",
    "    p *= np.random.uniform(0,1)\n",
    "    points3.append(p)\n",
    "points3 = np.array(points3)\"\"\""
   ]
  },
  {
   "cell_type": "code",
   "execution_count": 13,
   "id": "ad626ee6",
   "metadata": {},
   "outputs": [
    {
     "data": {
      "text/plain": [
       "0.9659258262890683"
      ]
     },
     "execution_count": 13,
     "metadata": {},
     "output_type": "execute_result"
    }
   ],
   "source": [
    "np.cos(np.pi/12)"
   ]
  },
  {
   "cell_type": "code",
   "execution_count": 14,
   "id": "20348211",
   "metadata": {},
   "outputs": [
    {
     "data": {
      "image/png": "[encoded data removed]",
      "text/plain": [
       "<Figure size 432x288 with 1 Axes>"
      ]
     },
     "metadata": {
      "needs_background": "light"
     },
     "output_type": "display_data"
    }
   ],
   "source": [
    "plt.scatter(points[:,0],points[:,1])\n",
    "points3 = points2@M\n",
    "plt.scatter(points3[:,0],points3[:,1])\n",
    "plt.plot(np.linspace(0,1,1000),np.sqrt(3)*np.linspace(0,1,1000))\n",
    "plt.plot(np.linspace(0,-1,1000),-np.sqrt(3)*np.linspace(0,-1,1000))\n",
    "plt.plot(np.linspace(0,1,1000),np.sqrt(3)*np.linspace(0,1,1000)/3)\n",
    "plt.plot(np.linspace(0,1,1000),-np.sqrt(3)*np.linspace(0,1,1000)/3)\n",
    "plt.xlim(-1,1)\n",
    "plt.ylim(-1,1)\n",
    "plt.show()"
   ]
  },
  {
   "cell_type": "code",
   "execution_count": 15,
   "id": "f9a5d7ce",
   "metadata": {},
   "outputs": [],
   "source": [
    "a = norm(points,axis=1)\n",
    "b = norm(points3,axis=1)\n",
    "a = a.reshape(10000,1)\n",
    "b = b.reshape(10000,1)\n",
    "M = a@b.T\n",
    "cos_sim = np.divide(dot(points, points3.T),M)"
   ]
  },
  {
   "cell_type": "code",
   "execution_count": 16,
   "id": "6567906a",
   "metadata": {},
   "outputs": [
    {
     "data": {
      "text/plain": [
       "array([[ 0.82568411,  0.40356765,  0.56692766, ...,  0.07947248,\n",
       "         0.01659168,  0.28265267],\n",
       "       [ 0.72902753,  0.25794936,  0.43339608, ..., -0.07488711,\n",
       "        -0.13748437,  0.13166138],\n",
       "       [ 0.99661483,  0.88988848,  0.95928487, ...,  0.68982276,\n",
       "         0.64290143,  0.82389306],\n",
       "       ...,\n",
       "       [ 0.72313461,  0.24965976,  0.42565671, ..., -0.08343046,\n",
       "        -0.14596809,  0.12316099],\n",
       "       [ 0.92582505,  0.58688948,  0.72743087, ...,  0.28725069,\n",
       "         0.22641099,  0.47798335],\n",
       "       [ 0.98930368,  0.91727697,  0.97540408, ...,  0.73477289,\n",
       "         0.69063583,  0.85849817]])"
      ]
     },
     "execution_count": 16,
     "metadata": {},
     "output_type": "execute_result"
    }
   ],
   "source": [
    "cos_sim"
   ]
  },
  {
   "cell_type": "code",
   "execution_count": 17,
   "id": "13231ae4",
   "metadata": {},
   "outputs": [
    {
     "data": {
      "image/png": "[encoded data removed]",
      "text/plain": [
       "<Figure size 432x288 with 1 Axes>"
      ]
     },
     "metadata": {
      "needs_background": "light"
     },
     "output_type": "display_data"
    }
   ],
   "source": [
    "plt.hist(cos_sim.flatten(),100)\n",
    "plt.show()"
   ]
  },
  {
   "cell_type": "code",
   "execution_count": 18,
   "id": "85b23c54",
   "metadata": {},
   "outputs": [
    {
     "data": {
      "text/plain": [
       "0.6528775119411925"
      ]
     },
     "execution_count": 18,
     "metadata": {},
     "output_type": "execute_result"
    }
   ],
   "source": [
    "np.mean(cos_sim.flatten())"
   ]
  },
  {
   "cell_type": "code",
   "execution_count": 19,
   "id": "0b187c7a",
   "metadata": {},
   "outputs": [
    {
     "data": {
      "image/png": "[encoded data removed]",
      "text/plain": [
       "<Figure size 432x288 with 1 Axes>"
      ]
     },
     "metadata": {
      "needs_background": "light"
     },
     "output_type": "display_data"
    }
   ],
   "source": [
    "cos_sim = np.divide(dot(points, points.T),a@a.T)\n",
    "plt.hist(cos_sim.flatten(),100)\n",
    "plt.show()"
   ]
  },
  {
   "cell_type": "code",
   "execution_count": 20,
   "id": "961c73a0",
   "metadata": {},
   "outputs": [
    {
     "data": {
      "text/plain": [
       "0.9122274459243586"
      ]
     },
     "execution_count": 20,
     "metadata": {},
     "output_type": "execute_result"
    }
   ],
   "source": [
    "np.mean(cos_sim.flatten())"
   ]
  },
  {
   "cell_type": "code",
   "execution_count": 21,
   "id": "8dfa29bc",
   "metadata": {},
   "outputs": [
    {
     "data": {
      "image/png": "[encoded data removed]",
      "text/plain": [
       "<Figure size 432x288 with 1 Axes>"
      ]
     },
     "metadata": {
      "needs_background": "light"
     },
     "output_type": "display_data"
    }
   ],
   "source": [
    "cos_sim = np.divide(dot(points3, points3.T),b@b.T)\n",
    "plt.hist(cos_sim.flatten(),100)\n",
    "plt.show()"
   ]
  },
  {
   "cell_type": "code",
   "execution_count": 22,
   "id": "99edfea8",
   "metadata": {},
   "outputs": [
    {
     "data": {
      "text/plain": [
       "0.9117678328275839"
      ]
     },
     "execution_count": 22,
     "metadata": {},
     "output_type": "execute_result"
    }
   ],
   "source": [
    "np.mean(cos_sim.flatten())"
   ]
  },
  {
   "cell_type": "code",
   "execution_count": 23,
   "id": "08440197",
   "metadata": {},
   "outputs": [],
   "source": [
    "R=rotation_matrix(np.pi/7)\n",
    "sigma = np.array([[0.0,0],[0,1]])\n",
    "sigma = R@sigma@R.T"
   ]
  },
  {
   "cell_type": "code",
   "execution_count": 24,
   "id": "c8884d7b",
   "metadata": {},
   "outputs": [],
   "source": [
    "x1 = np.random.multivariate_normal([0,0],[[1,0],[0,0]],10000)\n",
    "x2 = np.random.multivariate_normal([0,0],sigma,10000)\n",
    "a = norm(x1,axis=1)\n",
    "b = norm(x2,axis=1)\n",
    "a = a.reshape(10000,1)\n",
    "b = b.reshape(10000,1)\n",
    "M = a@b.T\n",
    "cos_sim = np.divide(x1@x2.T,M)"
   ]
  },
  {
   "cell_type": "code",
   "execution_count": 25,
   "id": "42d8bb6b",
   "metadata": {},
   "outputs": [
    {
     "data": {
      "text/plain": [
       "0.4338837476034272"
      ]
     },
     "execution_count": 25,
     "metadata": {},
     "output_type": "execute_result"
    }
   ],
   "source": [
    "np.mean(abs(cos_sim.flatten()))"
   ]
  },
  {
   "cell_type": "code",
   "execution_count": 26,
   "id": "d2c69584",
   "metadata": {},
   "outputs": [
    {
     "data": {
      "text/plain": [
       "'\\na = np.array([3,5,6])\\nb = np.array([1,2,3])\\nM = a*b[:,None]\\nM\\n'"
      ]
     },
     "execution_count": 26,
     "metadata": {},
     "output_type": "execute_result"
    }
   ],
   "source": [
    "\"\"\"\n",
    "a = np.array([3,5,6])\n",
    "b = np.array([1,2,3])\n",
    "M = a*b[:,None]\n",
    "M\n",
    "\"\"\""
   ]
  },
  {
   "cell_type": "code",
   "execution_count": 27,
   "id": "b5c9604f",
   "metadata": {},
   "outputs": [
    {
     "data": {
      "image/png": "[encoded data removed]",
      "text/plain": [
       "<Figure size 432x288 with 1 Axes>"
      ]
     },
     "metadata": {
      "needs_background": "light"
     },
     "output_type": "display_data"
    }
   ],
   "source": [
    "plt.hist(cos_sim.flatten(),100)\n",
    "plt.show()"
   ]
  },
  {
   "cell_type": "code",
   "execution_count": 28,
   "id": "d1116e81",
   "metadata": {},
   "outputs": [
    {
     "data": {
      "text/plain": [
       "0.43392192007493147"
      ]
     },
     "execution_count": 28,
     "metadata": {},
     "output_type": "execute_result"
    }
   ],
   "source": [
    "cos_sim.max()"
   ]
  },
  {
   "cell_type": "code",
   "execution_count": 29,
   "id": "11b42d2d",
   "metadata": {},
   "outputs": [
    {
     "data": {
      "text/plain": [
       "array([[0.1882551 , 0.39091574],\n",
       "       [0.39091574, 0.8117449 ]])"
      ]
     },
     "execution_count": 29,
     "metadata": {},
     "output_type": "execute_result"
    }
   ],
   "source": [
    "sigma"
   ]
  },
  {
   "cell_type": "code",
   "execution_count": 30,
   "id": "45e52dcf",
   "metadata": {},
   "outputs": [
    {
     "data": {
      "text/plain": [
       "0.4338837391175582"
      ]
     },
     "execution_count": 30,
     "metadata": {},
     "output_type": "execute_result"
    }
   ],
   "source": [
    "np.cos(np.pi/2- np.pi/7)"
   ]
  },
  {
   "cell_type": "code",
   "execution_count": 31,
   "id": "9ebb7fca",
   "metadata": {},
   "outputs": [
    {
     "data": {
      "image/png": "[encoded data removed]",
      "text/plain": [
       "<Figure size 432x288 with 1 Axes>"
      ]
     },
     "metadata": {
      "needs_background": "light"
     },
     "output_type": "display_data"
    }
   ],
   "source": [
    "cos_sim = np.divide(dot(x1, x1.T),a@a.T)\n",
    "plt.hist(cos_sim.flatten(),100)\n",
    "plt.show()"
   ]
  },
  {
   "cell_type": "code",
   "execution_count": 32,
   "id": "46a2755e",
   "metadata": {},
   "outputs": [
    {
     "data": {
      "text/plain": [
       "1.0"
      ]
     },
     "execution_count": 32,
     "metadata": {},
     "output_type": "execute_result"
    }
   ],
   "source": [
    "np.mean(abs(cos_sim.flatten()))"
   ]
  },
  {
   "cell_type": "code",
   "execution_count": 33,
   "id": "6b1296f7",
   "metadata": {},
   "outputs": [
    {
     "data": {
      "image/png": "[encoded data removed]",
      "text/plain": [
       "<Figure size 432x288 with 1 Axes>"
      ]
     },
     "metadata": {
      "needs_background": "light"
     },
     "output_type": "display_data"
    }
   ],
   "source": [
    "cos_sim = np.divide(dot(x2, x2.T),b@b.T)\n",
    "plt.hist(cos_sim.flatten(),100)\n",
    "plt.show()"
   ]
  },
  {
   "cell_type": "code",
   "execution_count": 34,
   "id": "0cfe7bee",
   "metadata": {},
   "outputs": [
    {
     "data": {
      "text/plain": [
       "0.9999999999995473"
      ]
     },
     "execution_count": 34,
     "metadata": {},
     "output_type": "execute_result"
    }
   ],
   "source": [
    "np.mean(abs(cos_sim.flatten()))"
   ]
  },
  {
   "cell_type": "code",
   "execution_count": 11,
   "id": "4a792f02",
   "metadata": {},
   "outputs": [],
   "source": [
    "mu_1 = np.array([1,0])\n",
    "R = rotation_matrix(np.pi/3)\n",
    "mu_2 = mu_1@R\n",
    "R = rotation_matrix(np.pi/12)\n",
    "mu_1 = mu_1 @ R\n",
    "mu_2 = mu_2 @ R"
   ]
  },
  {
   "cell_type": "code",
   "execution_count": 12,
   "id": "6c376343",
   "metadata": {},
   "outputs": [
    {
     "data": {
      "text/plain": [
       "(array([0.25881905, 0.96592583]), array([0.96592583, 0.25881905]))"
      ]
     },
     "execution_count": 12,
     "metadata": {},
     "output_type": "execute_result"
    }
   ],
   "source": [
    "mu_2,mu_1"
   ]
  },
  {
   "cell_type": "code",
   "execution_count": 10,
   "id": "2e330bbf",
   "metadata": {},
   "outputs": [
    {
     "name": "stdout",
     "output_type": "stream",
     "text": [
      "---------------------------------------------------\n",
      "0.6275776899706821 0.15789879813277435\n"
     ]
    },
    {
     "data": {
      "image/png": "[encoded data removed]",
      "text/plain": [
       "<Figure size 432x288 with 1 Axes>"
      ]
     },
     "metadata": {
      "needs_background": "light"
     },
     "output_type": "display_data"
    },
    {
     "name": "stdout",
     "output_type": "stream",
     "text": [
      "---------------------------------------------------\n",
      "0.5085359110576864 0.44588992369108355\n"
     ]
    },
    {
     "data": {
      "image/png": "[encoded data removed]",
      "text/plain": [
       "<Figure size 432x288 with 1 Axes>"
      ]
     },
     "metadata": {
      "needs_background": "light"
     },
     "output_type": "display_data"
    },
    {
     "name": "stdout",
     "output_type": "stream",
     "text": [
      "---------------------------------------------------\n",
      "0.49583888725956304 0.4958311788133581\n"
     ]
    },
    {
     "data": {
      "image/png": "[encoded data removed]",
      "text/plain": [
       "<Figure size 432x288 with 1 Axes>"
      ]
     },
     "metadata": {
      "needs_background": "light"
     },
     "output_type": "display_data"
    },
    {
     "name": "stdout",
     "output_type": "stream",
     "text": [
      "---------------------------------------------------\n",
      "0.499148718677841 0.499148718677841\n"
     ]
    },
    {
     "data": {
      "image/png": "[encoded data removed]",
      "text/plain": [
       "<Figure size 432x288 with 1 Axes>"
      ]
     },
     "metadata": {
      "needs_background": "light"
     },
     "output_type": "display_data"
    }
   ],
   "source": [
    "for var in [1,1e-1,1e-2,1e-3]:\n",
    "    x1 = np.random.multivariate_normal(mu_1,[[var,0],[0,var]],10000)\n",
    "    x2 = np.random.multivariate_normal(mu_2,[[var,0],[0,var]],10000)\n",
    "    a = norm(x1,axis=1)\n",
    "    b = norm(x2,axis=1)\n",
    "    a = a.reshape(10000,1)\n",
    "    b = b.reshape(10000,1)\n",
    "    M = a@b.T\n",
    "    cos_sim = np.divide(x1@x2.T,M)\n",
    "    print(\"---------------------------------------------------\")\n",
    "    print(np.mean(abs(cos_sim.flatten())),np.mean(cos_sim.flatten()))\n",
    "    plt.hist(cos_sim.flatten(),100)\n",
    "    plt.show()"
   ]
  }
 ],
 "metadata": {
  "kernelspec": {
   "display_name": "Python 3 (ipykernel)",
   "language": "python",
   "name": "python3"
  },
  "language_info": {
   "codemirror_mode": {
    "name": "ipython",
    "version": 3
   },
   "file_extension": ".py",
   "mimetype": "text/x-python",
   "name": "python",
   "nbconvert_exporter": "python",
   "pygments_lexer": "ipython3",
   "version": "3.9.7"
  }
 },
 "nbformat": 4,
 "nbformat_minor": 5
}
